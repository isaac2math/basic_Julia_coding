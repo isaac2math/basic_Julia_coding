{
 "cells": [
  {
   "cell_type": "code",
   "execution_count": 11,
   "id": "799cb013-abf3-4589-a5ea-2a3f9dcefd49",
   "metadata": {},
   "outputs": [],
   "source": [
    "using Pkg"
   ]
  },
  {
   "cell_type": "code",
   "execution_count": 12,
   "id": "7e7cc599-6c60-41fc-8ce4-6d8aaf07da22",
   "metadata": {},
   "outputs": [
    {
     "name": "stderr",
     "output_type": "stream",
     "text": [
      "\u001b[32m\u001b[1m    Updating\u001b[22m\u001b[39m registry at `~/.julia/registries/General`\n",
      "\u001b[32m\u001b[1m    Updating\u001b[22m\u001b[39m git-repo `https://github.com/JuliaRegistries/General.git`\n",
      "\u001b[32m\u001b[1m  No Changes\u001b[22m\u001b[39m to `~/.julia/environments/v1.6/Project.toml`\n",
      "\u001b[32m\u001b[1m  No Changes\u001b[22m\u001b[39m to `~/.julia/environments/v1.6/Manifest.toml`\n"
     ]
    }
   ],
   "source": [
    "Pkg.update()"
   ]
  },
  {
   "cell_type": "code",
   "execution_count": 13,
   "id": "fbcffadf-f767-4b51-9ed3-fae91664329e",
   "metadata": {},
   "outputs": [],
   "source": [
    "Packages = [\"StatsBase\", \"StatsModels\", \"DataFrames\", \"Distributions\", \n",
    "            \"MultivariateStats\", \"HypothesisTests\", \"MLBase\", \"Distances\", \n",
    "            \"KernelDensity\", \"Clustering\", \"GLM\", \"NMF\", \"TimeSeries\",\n",
    "            \"CSV\"];"
   ]
  },
  {
   "cell_type": "code",
   "execution_count": 14,
   "id": "c67eb85c-c418-4f71-8d7c-bd5e89bed2fa",
   "metadata": {},
   "outputs": [
    {
     "name": "stderr",
     "output_type": "stream",
     "text": [
      "\u001b[32m\u001b[1m   Resolving\u001b[22m\u001b[39m package versions...\n",
      "\u001b[32m\u001b[1m  No Changes\u001b[22m\u001b[39m to `~/.julia/environments/v1.6/Project.toml`\n",
      "\u001b[32m\u001b[1m  No Changes\u001b[22m\u001b[39m to `~/.julia/environments/v1.6/Manifest.toml`\n"
     ]
    }
   ],
   "source": [
    "Pkg.add(Packages)"
   ]
  },
  {
   "cell_type": "code",
   "execution_count": null,
   "id": "b160761a-6da2-4222-9827-2f24fdec2e1d",
   "metadata": {},
   "outputs": [],
   "source": []
  }
 ],
 "metadata": {
  "kernelspec": {
   "display_name": "Julia 1.6.0",
   "language": "julia",
   "name": "julia-1.6"
  },
  "language_info": {
   "file_extension": ".jl",
   "mimetype": "application/julia",
   "name": "julia",
   "version": "1.6.2"
  }
 },
 "nbformat": 4,
 "nbformat_minor": 5
}
