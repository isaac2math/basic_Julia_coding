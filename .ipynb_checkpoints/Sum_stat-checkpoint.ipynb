{
 "cells": [
  {
   "cell_type": "markdown",
   "id": "e8c84138-54d3-4b8c-bed8-ae2c889a6d4a",
   "metadata": {},
   "source": [
    "# summary statistics"
   ]
  },
  {
   "cell_type": "code",
   "execution_count": 8,
   "id": "f3701736-42c6-49f1-ae7a-2d31aea1bb05",
   "metadata": {},
   "outputs": [],
   "source": [
    "using CSV, DataFrames, Statistics, OnlineStats, StatsBase, Plots, Distributions, StatsPlots"
   ]
  },
  {
   "cell_type": "code",
   "execution_count": 9,
   "id": "01ed756f-2c24-4382-b7f4-0801a434ca77",
   "metadata": {},
   "outputs": [],
   "source": [
    "df = CSV.read(\"hprice2.csv\", DataFrame);"
   ]
  },
  {
   "cell_type": "code",
   "execution_count": 20,
   "id": "b510d699-efa7-4f8b-a1ea-70ba396bdcdf",
   "metadata": {},
   "outputs": [
    {
     "data": {
      "text/plain": [
       "5-element Vector{String}:\n",
       " \"price\"\n",
       " \"bdrms\"\n",
       " \"lotsize\"\n",
       " \"sqrmtr\"\n",
       " \"fed\""
      ]
     },
     "execution_count": 20,
     "metadata": {},
     "output_type": "execute_result"
    }
   ],
   "source": [
    "names(df)"
   ]
  },
  {
   "cell_type": "code",
   "execution_count": 19,
   "id": "f3262408-c182-4132-9b36-1217060712b8",
   "metadata": {},
   "outputs": [
    {
     "data": {
      "text/html": [
       "<div class=\"data-frame\"><p>5 rows × 7 columns</p><table class=\"data-frame\"><thead><tr><th></th><th>variable</th><th>mean</th><th>min</th><th>median</th><th>max</th><th>nmissing</th><th>eltype</th></tr><tr><th></th><th title=\"Symbol\">Symbol</th><th title=\"Float64\">Float64</th><th title=\"Int64\">Int64</th><th title=\"Float64\">Float64</th><th title=\"Int64\">Int64</th><th title=\"Int64\">Int64</th><th title=\"DataType\">DataType</th></tr></thead><tbody><tr><th>1</th><td>price</td><td>2.92649e5</td><td>111000</td><td>267000.0</td><td>815000</td><td>0</td><td>Int64</td></tr><tr><th>2</th><td>bdrms</td><td>3.5678</td><td>2</td><td>3.0</td><td>7</td><td>0</td><td>Int64</td></tr><tr><th>3</th><td>lotsize</td><td>1058.04</td><td>125</td><td>804.0</td><td>11585</td><td>0</td><td>Int64</td></tr><tr><th>4</th><td>sqrmtr</td><td>233.347</td><td>134</td><td>217.5</td><td>446</td><td>0</td><td>Int64</td></tr><tr><th>5</th><td>fed</td><td>0.720339</td><td>0</td><td>1.0</td><td>1</td><td>0</td><td>Int64</td></tr></tbody></table></div>"
      ],
      "text/latex": [
       "\\begin{tabular}{r|ccccccc}\n",
       "\t& variable & mean & min & median & max & nmissing & eltype\\\\\n",
       "\t\\hline\n",
       "\t& Symbol & Float64 & Int64 & Float64 & Int64 & Int64 & DataType\\\\\n",
       "\t\\hline\n",
       "\t1 & price & 2.92649e5 & 111000 & 267000.0 & 815000 & 0 & Int64 \\\\\n",
       "\t2 & bdrms & 3.5678 & 2 & 3.0 & 7 & 0 & Int64 \\\\\n",
       "\t3 & lotsize & 1058.04 & 125 & 804.0 & 11585 & 0 & Int64 \\\\\n",
       "\t4 & sqrmtr & 233.347 & 134 & 217.5 & 446 & 0 & Int64 \\\\\n",
       "\t5 & fed & 0.720339 & 0 & 1.0 & 1 & 0 & Int64 \\\\\n",
       "\\end{tabular}\n"
      ],
      "text/plain": [
       "\u001b[1m5×7 DataFrame\u001b[0m\n",
       "\u001b[1m Row \u001b[0m│\u001b[1m variable \u001b[0m\u001b[1m mean         \u001b[0m\u001b[1m min    \u001b[0m\u001b[1m median   \u001b[0m\u001b[1m max    \u001b[0m\u001b[1m nmissing \u001b[0m\u001b[1m eltype   \u001b[0m\n",
       "\u001b[1m     \u001b[0m│\u001b[90m Symbol   \u001b[0m\u001b[90m Float64      \u001b[0m\u001b[90m Int64  \u001b[0m\u001b[90m Float64  \u001b[0m\u001b[90m Int64  \u001b[0m\u001b[90m Int64    \u001b[0m\u001b[90m DataType \u001b[0m\n",
       "─────┼──────────────────────────────────────────────────────────────────────\n",
       "   1 │ price        2.92649e5  111000  267000.0  815000         0  Int64\n",
       "   2 │ bdrms        3.5678          2       3.0       7         0  Int64\n",
       "   3 │ lotsize   1058.04          125     804.0   11585         0  Int64\n",
       "   4 │ sqrmtr     233.347         134     217.5     446         0  Int64\n",
       "   5 │ fed          0.720339        0       1.0       1         0  Int64"
      ]
     },
     "execution_count": 19,
     "metadata": {},
     "output_type": "execute_result"
    }
   ],
   "source": [
    "describe(df)"
   ]
  },
  {
   "cell_type": "code",
   "execution_count": 10,
   "id": "228965b6-29b5-493e-bfb1-509a07b0ce22",
   "metadata": {},
   "outputs": [
    {
     "data": {
      "text/html": [
       "<div class=\"data-frame\"><p>4 rows × 5 columns</p><table class=\"data-frame\"><thead><tr><th></th><th>price</th><th>bdrms</th><th>lotsize</th><th>sqrmtr</th><th>fed</th></tr><tr><th></th><th title=\"Int64\">Int64</th><th title=\"Int64\">Int64</th><th title=\"Int64\">Int64</th><th title=\"Int64\">Int64</th><th title=\"Int64\">Int64</th></tr></thead><tbody><tr><th>1</th><td>320000</td><td>6</td><td>766</td><td>280</td><td>1</td></tr><tr><th>2</th><td>300000</td><td>5</td><td>881</td><td>303</td><td>1</td></tr><tr><th>3</th><td>405000</td><td>3</td><td>1530</td><td>388</td><td>1</td></tr><tr><th>4</th><td>212000</td><td>3</td><td>808</td><td>218</td><td>0</td></tr></tbody></table></div>"
      ],
      "text/latex": [
       "\\begin{tabular}{r|ccccc}\n",
       "\t& price & bdrms & lotsize & sqrmtr & fed\\\\\n",
       "\t\\hline\n",
       "\t& Int64 & Int64 & Int64 & Int64 & Int64\\\\\n",
       "\t\\hline\n",
       "\t1 & 320000 & 6 & 766 & 280 & 1 \\\\\n",
       "\t2 & 300000 & 5 & 881 & 303 & 1 \\\\\n",
       "\t3 & 405000 & 3 & 1530 & 388 & 1 \\\\\n",
       "\t4 & 212000 & 3 & 808 & 218 & 0 \\\\\n",
       "\\end{tabular}\n"
      ],
      "text/plain": [
       "\u001b[1m4×5 DataFrame\u001b[0m\n",
       "\u001b[1m Row \u001b[0m│\u001b[1m price  \u001b[0m\u001b[1m bdrms \u001b[0m\u001b[1m lotsize \u001b[0m\u001b[1m sqrmtr \u001b[0m\u001b[1m fed   \u001b[0m\n",
       "\u001b[1m     \u001b[0m│\u001b[90m Int64  \u001b[0m\u001b[90m Int64 \u001b[0m\u001b[90m Int64   \u001b[0m\u001b[90m Int64  \u001b[0m\u001b[90m Int64 \u001b[0m\n",
       "─────┼───────────────────────────────────────\n",
       "   1 │ 320000      6      766     280      1\n",
       "   2 │ 300000      5      881     303      1\n",
       "   3 │ 405000      3     1530     388      1\n",
       "   4 │ 212000      3      808     218      0"
      ]
     },
     "execution_count": 10,
     "metadata": {},
     "output_type": "execute_result"
    }
   ],
   "source": [
    "first(df, 4)"
   ]
  },
  {
   "cell_type": "code",
   "execution_count": 11,
   "id": "e2d951c4-94c6-4c59-9361-4ba1c3c67045",
   "metadata": {},
   "outputs": [
    {
     "data": {
      "text/html": [
       "<div class=\"data-frame\"><p>4 rows × 5 columns</p><table class=\"data-frame\"><thead><tr><th></th><th>price</th><th>bdrms</th><th>lotsize</th><th>sqrmtr</th><th>fed</th></tr><tr><th></th><th title=\"Int64\">Int64</th><th title=\"Int64\">Int64</th><th title=\"Int64\">Int64</th><th title=\"Int64\">Int64</th><th title=\"Int64\">Int64</th></tr></thead><tbody><tr><th>1</th><td>285000</td><td>3</td><td>890</td><td>204</td><td>1</td></tr><tr><th>2</th><td>268000</td><td>3</td><td>705</td><td>158</td><td>1</td></tr><tr><th>3</th><td>310000</td><td>4</td><td>1075</td><td>211</td><td>1</td></tr><tr><th>4</th><td>266000</td><td>3</td><td>687</td><td>235</td><td>1</td></tr></tbody></table></div>"
      ],
      "text/latex": [
       "\\begin{tabular}{r|ccccc}\n",
       "\t& price & bdrms & lotsize & sqrmtr & fed\\\\\n",
       "\t\\hline\n",
       "\t& Int64 & Int64 & Int64 & Int64 & Int64\\\\\n",
       "\t\\hline\n",
       "\t1 & 285000 & 3 & 890 & 204 & 1 \\\\\n",
       "\t2 & 268000 & 3 & 705 & 158 & 1 \\\\\n",
       "\t3 & 310000 & 4 & 1075 & 211 & 1 \\\\\n",
       "\t4 & 266000 & 3 & 687 & 235 & 1 \\\\\n",
       "\\end{tabular}\n"
      ],
      "text/plain": [
       "\u001b[1m4×5 DataFrame\u001b[0m\n",
       "\u001b[1m Row \u001b[0m│\u001b[1m price  \u001b[0m\u001b[1m bdrms \u001b[0m\u001b[1m lotsize \u001b[0m\u001b[1m sqrmtr \u001b[0m\u001b[1m fed   \u001b[0m\n",
       "\u001b[1m     \u001b[0m│\u001b[90m Int64  \u001b[0m\u001b[90m Int64 \u001b[0m\u001b[90m Int64   \u001b[0m\u001b[90m Int64  \u001b[0m\u001b[90m Int64 \u001b[0m\n",
       "─────┼───────────────────────────────────────\n",
       "   1 │ 285000      3      890     204      1\n",
       "   2 │ 268000      3      705     158      1\n",
       "   3 │ 310000      4     1075     211      1\n",
       "   4 │ 266000      3      687     235      1"
      ]
     },
     "execution_count": 11,
     "metadata": {},
     "output_type": "execute_result"
    }
   ],
   "source": [
    "last(df, 4)"
   ]
  },
  {
   "cell_type": "code",
   "execution_count": 21,
   "id": "8b510cbb-4883-47ec-9c1e-df0e36f2bf60",
   "metadata": {},
   "outputs": [
    {
     "data": {
      "text/plain": [
       "1530"
      ]
     },
     "execution_count": 21,
     "metadata": {},
     "output_type": "execute_result"
    }
   ],
   "source": [
    "df[3,3]"
   ]
  },
  {
   "cell_type": "code",
   "execution_count": 22,
   "id": "c1b0bcea-87b5-42de-bd6a-70ef041bd676",
   "metadata": {},
   "outputs": [
    {
     "data": {
      "text/html": [
       "<div class=\"data-frame\"><p>118 rows × 3 columns</p><table class=\"data-frame\"><thead><tr><th></th><th>price</th><th>bdrms</th><th>lotsize</th></tr><tr><th></th><th title=\"Int64\">Int64</th><th title=\"Int64\">Int64</th><th title=\"Int64\">Int64</th></tr></thead><tbody><tr><th>1</th><td>320000</td><td>6</td><td>766</td></tr><tr><th>2</th><td>300000</td><td>5</td><td>881</td></tr><tr><th>3</th><td>405000</td><td>3</td><td>1530</td></tr><tr><th>4</th><td>212000</td><td>3</td><td>808</td></tr><tr><th>5</th><td>265000</td><td>3</td><td>815</td></tr><tr><th>6</th><td>227400</td><td>4</td><td>450</td></tr><tr><th>7</th><td>240000</td><td>4</td><td>740</td></tr><tr><th>8</th><td>285000</td><td>3</td><td>890</td></tr><tr><th>9</th><td>268000</td><td>3</td><td>705</td></tr><tr><th>10</th><td>310000</td><td>4</td><td>1075</td></tr><tr><th>11</th><td>266000</td><td>3</td><td>687</td></tr><tr><th>12</th><td>370000</td><td>3</td><td>1238</td></tr><tr><th>13</th><td>191000</td><td>3</td><td>650</td></tr><tr><th>14</th><td>195000</td><td>3</td><td>575</td></tr><tr><th>15</th><td>373000</td><td>4</td><td>762</td></tr><tr><th>16</th><td>466275</td><td>5</td><td>1071</td></tr><tr><th>17</th><td>332500</td><td>3</td><td>1125</td></tr><tr><th>18</th><td>315000</td><td>3</td><td>776</td></tr><tr><th>19</th><td>206000</td><td>3</td><td>750</td></tr><tr><th>20</th><td>240000</td><td>3</td><td>362</td></tr><tr><th>21</th><td>285000</td><td>4</td><td>750</td></tr><tr><th>22</th><td>300000</td><td>5</td><td>881</td></tr><tr><th>23</th><td>405000</td><td>3</td><td>1530</td></tr><tr><th>24</th><td>212000</td><td>3</td><td>808</td></tr><tr><th>25</th><td>265000</td><td>3</td><td>815</td></tr><tr><th>26</th><td>227400</td><td>4</td><td>450</td></tr><tr><th>27</th><td>240000</td><td>4</td><td>740</td></tr><tr><th>28</th><td>285000</td><td>3</td><td>890</td></tr><tr><th>29</th><td>268000</td><td>3</td><td>705</td></tr><tr><th>30</th><td>310000</td><td>4</td><td>1075</td></tr><tr><th>&vellip;</th><td>&vellip;</td><td>&vellip;</td><td>&vellip;</td></tr></tbody></table></div>"
      ],
      "text/latex": [
       "\\begin{tabular}{r|ccc}\n",
       "\t& price & bdrms & lotsize\\\\\n",
       "\t\\hline\n",
       "\t& Int64 & Int64 & Int64\\\\\n",
       "\t\\hline\n",
       "\t1 & 320000 & 6 & 766 \\\\\n",
       "\t2 & 300000 & 5 & 881 \\\\\n",
       "\t3 & 405000 & 3 & 1530 \\\\\n",
       "\t4 & 212000 & 3 & 808 \\\\\n",
       "\t5 & 265000 & 3 & 815 \\\\\n",
       "\t6 & 227400 & 4 & 450 \\\\\n",
       "\t7 & 240000 & 4 & 740 \\\\\n",
       "\t8 & 285000 & 3 & 890 \\\\\n",
       "\t9 & 268000 & 3 & 705 \\\\\n",
       "\t10 & 310000 & 4 & 1075 \\\\\n",
       "\t11 & 266000 & 3 & 687 \\\\\n",
       "\t12 & 370000 & 3 & 1238 \\\\\n",
       "\t13 & 191000 & 3 & 650 \\\\\n",
       "\t14 & 195000 & 3 & 575 \\\\\n",
       "\t15 & 373000 & 4 & 762 \\\\\n",
       "\t16 & 466275 & 5 & 1071 \\\\\n",
       "\t17 & 332500 & 3 & 1125 \\\\\n",
       "\t18 & 315000 & 3 & 776 \\\\\n",
       "\t19 & 206000 & 3 & 750 \\\\\n",
       "\t20 & 240000 & 3 & 362 \\\\\n",
       "\t21 & 285000 & 4 & 750 \\\\\n",
       "\t22 & 300000 & 5 & 881 \\\\\n",
       "\t23 & 405000 & 3 & 1530 \\\\\n",
       "\t24 & 212000 & 3 & 808 \\\\\n",
       "\t25 & 265000 & 3 & 815 \\\\\n",
       "\t26 & 227400 & 4 & 450 \\\\\n",
       "\t27 & 240000 & 4 & 740 \\\\\n",
       "\t28 & 285000 & 3 & 890 \\\\\n",
       "\t29 & 268000 & 3 & 705 \\\\\n",
       "\t30 & 310000 & 4 & 1075 \\\\\n",
       "\t$\\dots$ & $\\dots$ & $\\dots$ & $\\dots$ \\\\\n",
       "\\end{tabular}\n"
      ],
      "text/plain": [
       "\u001b[1m118×3 DataFrame\u001b[0m\n",
       "\u001b[1m Row \u001b[0m│\u001b[1m price  \u001b[0m\u001b[1m bdrms \u001b[0m\u001b[1m lotsize \u001b[0m\n",
       "\u001b[1m     \u001b[0m│\u001b[90m Int64  \u001b[0m\u001b[90m Int64 \u001b[0m\u001b[90m Int64   \u001b[0m\n",
       "─────┼────────────────────────\n",
       "   1 │ 320000      6      766\n",
       "   2 │ 300000      5      881\n",
       "   3 │ 405000      3     1530\n",
       "   4 │ 212000      3      808\n",
       "   5 │ 265000      3      815\n",
       "   6 │ 227400      4      450\n",
       "   7 │ 240000      4      740\n",
       "   8 │ 285000      3      890\n",
       "   9 │ 268000      3      705\n",
       "  10 │ 310000      4     1075\n",
       "  11 │ 266000      3      687\n",
       "  ⋮  │   ⋮       ⋮       ⋮\n",
       " 109 │ 300000      5      881\n",
       " 110 │ 405000      3     1530\n",
       " 111 │ 212000      3      808\n",
       " 112 │ 265000      3      815\n",
       " 113 │ 227400      4      450\n",
       " 114 │ 240000      4      740\n",
       " 115 │ 285000      3      890\n",
       " 116 │ 268000      3      705\n",
       " 117 │ 310000      4     1075\n",
       " 118 │ 266000      3      687\n",
       "\u001b[36m               97 rows omitted\u001b[0m"
      ]
     },
     "execution_count": 22,
     "metadata": {},
     "output_type": "execute_result"
    }
   ],
   "source": [
    "df[:,1:3]"
   ]
  },
  {
   "cell_type": "code",
   "execution_count": 12,
   "id": "9e297472-9800-418e-82be-2ef2c9a81634",
   "metadata": {},
   "outputs": [
    {
     "data": {
      "text/html": [
       "<div class=\"data-frame\"><p>3 rows × 5 columns</p><table class=\"data-frame\"><thead><tr><th></th><th>price</th><th>bdrms</th><th>lotsize</th><th>sqrmtr</th><th>fed</th></tr><tr><th></th><th title=\"Int64\">Int64</th><th title=\"Int64\">Int64</th><th title=\"Int64\">Int64</th><th title=\"Int64\">Int64</th><th title=\"Int64\">Int64</th></tr></thead><tbody><tr><th>1</th><td>320000</td><td>6</td><td>766</td><td>280</td><td>1</td></tr><tr><th>2</th><td>300000</td><td>5</td><td>881</td><td>303</td><td>1</td></tr><tr><th>3</th><td>405000</td><td>3</td><td>1530</td><td>388</td><td>1</td></tr></tbody></table></div>"
      ],
      "text/latex": [
       "\\begin{tabular}{r|ccccc}\n",
       "\t& price & bdrms & lotsize & sqrmtr & fed\\\\\n",
       "\t\\hline\n",
       "\t& Int64 & Int64 & Int64 & Int64 & Int64\\\\\n",
       "\t\\hline\n",
       "\t1 & 320000 & 6 & 766 & 280 & 1 \\\\\n",
       "\t2 & 300000 & 5 & 881 & 303 & 1 \\\\\n",
       "\t3 & 405000 & 3 & 1530 & 388 & 1 \\\\\n",
       "\\end{tabular}\n"
      ],
      "text/plain": [
       "\u001b[1m3×5 DataFrame\u001b[0m\n",
       "\u001b[1m Row \u001b[0m│\u001b[1m price  \u001b[0m\u001b[1m bdrms \u001b[0m\u001b[1m lotsize \u001b[0m\u001b[1m sqrmtr \u001b[0m\u001b[1m fed   \u001b[0m\n",
       "\u001b[1m     \u001b[0m│\u001b[90m Int64  \u001b[0m\u001b[90m Int64 \u001b[0m\u001b[90m Int64   \u001b[0m\u001b[90m Int64  \u001b[0m\u001b[90m Int64 \u001b[0m\n",
       "─────┼───────────────────────────────────────\n",
       "   1 │ 320000      6      766     280      1\n",
       "   2 │ 300000      5      881     303      1\n",
       "   3 │ 405000      3     1530     388      1"
      ]
     },
     "execution_count": 12,
     "metadata": {},
     "output_type": "execute_result"
    }
   ],
   "source": [
    "df[1:3, :]"
   ]
  },
  {
   "cell_type": "code",
   "execution_count": 13,
   "id": "51ebc243-896a-4c17-af2d-a00c22056543",
   "metadata": {},
   "outputs": [
    {
     "data": {
      "text/html": [
       "<div class=\"data-frame\"><p>5 rows × 2 columns</p><table class=\"data-frame\"><thead><tr><th></th><th>price</th><th>bdrms</th></tr><tr><th></th><th title=\"Int64\">Int64</th><th title=\"Int64\">Int64</th></tr></thead><tbody><tr><th>1</th><td>320000</td><td>6</td></tr><tr><th>2</th><td>300000</td><td>5</td></tr><tr><th>3</th><td>405000</td><td>3</td></tr><tr><th>4</th><td>212000</td><td>3</td></tr><tr><th>5</th><td>265000</td><td>3</td></tr></tbody></table></div>"
      ],
      "text/latex": [
       "\\begin{tabular}{r|cc}\n",
       "\t& price & bdrms\\\\\n",
       "\t\\hline\n",
       "\t& Int64 & Int64\\\\\n",
       "\t\\hline\n",
       "\t1 & 320000 & 6 \\\\\n",
       "\t2 & 300000 & 5 \\\\\n",
       "\t3 & 405000 & 3 \\\\\n",
       "\t4 & 212000 & 3 \\\\\n",
       "\t5 & 265000 & 3 \\\\\n",
       "\\end{tabular}\n"
      ],
      "text/plain": [
       "\u001b[1m5×2 DataFrame\u001b[0m\n",
       "\u001b[1m Row \u001b[0m│\u001b[1m price  \u001b[0m\u001b[1m bdrms \u001b[0m\n",
       "\u001b[1m     \u001b[0m│\u001b[90m Int64  \u001b[0m\u001b[90m Int64 \u001b[0m\n",
       "─────┼───────────────\n",
       "   1 │ 320000      6\n",
       "   2 │ 300000      5\n",
       "   3 │ 405000      3\n",
       "   4 │ 212000      3\n",
       "   5 │ 265000      3"
      ]
     },
     "execution_count": 13,
     "metadata": {},
     "output_type": "execute_result"
    }
   ],
   "source": [
    "df[1:5, [:price, :bdrms]]"
   ]
  },
  {
   "cell_type": "code",
   "execution_count": 14,
   "id": "a6936ae2-f4e6-41d4-a9e2-1302a4f3ef1a",
   "metadata": {},
   "outputs": [
    {
     "data": {
      "text/plain": [
       "292649.3728813559"
      ]
     },
     "execution_count": 14,
     "metadata": {},
     "output_type": "execute_result"
    }
   ],
   "source": [
    "mean(df[:,:price])"
   ]
  },
  {
   "cell_type": "code",
   "execution_count": 15,
   "id": "4f0cf507-2f82-4875-acf0-59a3e5a66ea9",
   "metadata": {},
   "outputs": [
    {
     "data": {
      "text/plain": [
       "9.692379782304214e9"
      ]
     },
     "execution_count": 15,
     "metadata": {},
     "output_type": "execute_result"
    }
   ],
   "source": [
    "var(df[:,:price])"
   ]
  },
  {
   "cell_type": "code",
   "execution_count": 16,
   "id": "8c8774fd-eaca-4dec-81f7-526fc4451c7a",
   "metadata": {},
   "outputs": [
    {
     "data": {
      "text/plain": [
       "98449.88462311277"
      ]
     },
     "execution_count": 16,
     "metadata": {},
     "output_type": "execute_result"
    }
   ],
   "source": [
    "std(df[:,:price])"
   ]
  },
  {
   "cell_type": "code",
   "execution_count": 17,
   "id": "065d1c1c-02ee-4f60-a739-625e86287674",
   "metadata": {},
   "outputs": [
    {
     "data": {
      "text/plain": [
       "2.303368987078565"
      ]
     },
     "execution_count": 17,
     "metadata": {},
     "output_type": "execute_result"
    }
   ],
   "source": [
    "skewness(df[:,:price])"
   ]
  },
  {
   "cell_type": "code",
   "execution_count": 18,
   "id": "bb31a733-4dee-43da-b90e-7e01ce994cfa",
   "metadata": {},
   "outputs": [
    {
     "data": {
      "text/plain": [
       "8.21679374233191"
      ]
     },
     "execution_count": 18,
     "metadata": {},
     "output_type": "execute_result"
    }
   ],
   "source": [
    "kurtosis(df[:,:price])"
   ]
  },
  {
   "cell_type": "code",
   "execution_count": 36,
   "id": "003b1adf-af12-4a0f-8b62-5b9168e58c54",
   "metadata": {},
   "outputs": [
    {
     "data": {
      "text/html": [
       "<div class=\"data-frame\"><p>118 rows × 5 columns</p><table class=\"data-frame\"><thead><tr><th></th><th>Price</th><th>bdrms</th><th>lotsize</th><th>sqrmtr</th><th>fed</th></tr><tr><th></th><th title=\"Int64\">Int64</th><th title=\"Int64\">Int64</th><th title=\"Int64\">Int64</th><th title=\"Int64\">Int64</th><th title=\"Int64\">Int64</th></tr></thead><tbody><tr><th>1</th><td>320000</td><td>6</td><td>766</td><td>280</td><td>1</td></tr><tr><th>2</th><td>300000</td><td>5</td><td>881</td><td>303</td><td>1</td></tr><tr><th>3</th><td>405000</td><td>3</td><td>1530</td><td>388</td><td>1</td></tr><tr><th>4</th><td>212000</td><td>3</td><td>808</td><td>218</td><td>0</td></tr><tr><th>5</th><td>265000</td><td>3</td><td>815</td><td>266</td><td>1</td></tr><tr><th>6</th><td>227400</td><td>4</td><td>450</td><td>202</td><td>1</td></tr><tr><th>7</th><td>240000</td><td>4</td><td>740</td><td>230</td><td>0</td></tr><tr><th>8</th><td>285000</td><td>3</td><td>890</td><td>204</td><td>1</td></tr><tr><th>9</th><td>268000</td><td>3</td><td>705</td><td>158</td><td>1</td></tr><tr><th>10</th><td>310000</td><td>4</td><td>1075</td><td>211</td><td>1</td></tr><tr><th>11</th><td>266000</td><td>3</td><td>687</td><td>235</td><td>1</td></tr><tr><th>12</th><td>370000</td><td>3</td><td>1238</td><td>238</td><td>1</td></tr><tr><th>13</th><td>191000</td><td>3</td><td>650</td><td>158</td><td>0</td></tr><tr><th>14</th><td>195000</td><td>3</td><td>575</td><td>166</td><td>1</td></tr><tr><th>15</th><td>373000</td><td>4</td><td>762</td><td>289</td><td>1</td></tr><tr><th>16</th><td>466275</td><td>5</td><td>1071</td><td>316</td><td>1</td></tr><tr><th>17</th><td>332500</td><td>3</td><td>1125</td><td>237</td><td>1</td></tr><tr><th>18</th><td>315000</td><td>3</td><td>776</td><td>199</td><td>1</td></tr><tr><th>19</th><td>206000</td><td>3</td><td>750</td><td>203</td><td>0</td></tr><tr><th>20</th><td>240000</td><td>3</td><td>362</td><td>217</td><td>0</td></tr><tr><th>21</th><td>285000</td><td>4</td><td>750</td><td>268</td><td>1</td></tr><tr><th>22</th><td>300000</td><td>5</td><td>881</td><td>303</td><td>1</td></tr><tr><th>23</th><td>405000</td><td>3</td><td>1530</td><td>388</td><td>1</td></tr><tr><th>24</th><td>212000</td><td>3</td><td>808</td><td>218</td><td>0</td></tr><tr><th>25</th><td>265000</td><td>3</td><td>815</td><td>266</td><td>1</td></tr><tr><th>26</th><td>227400</td><td>4</td><td>450</td><td>202</td><td>1</td></tr><tr><th>27</th><td>240000</td><td>4</td><td>740</td><td>230</td><td>0</td></tr><tr><th>28</th><td>285000</td><td>3</td><td>890</td><td>204</td><td>1</td></tr><tr><th>29</th><td>268000</td><td>3</td><td>705</td><td>158</td><td>1</td></tr><tr><th>30</th><td>310000</td><td>4</td><td>1075</td><td>211</td><td>1</td></tr><tr><th>&vellip;</th><td>&vellip;</td><td>&vellip;</td><td>&vellip;</td><td>&vellip;</td><td>&vellip;</td></tr></tbody></table></div>"
      ],
      "text/latex": [
       "\\begin{tabular}{r|ccccc}\n",
       "\t& Price & bdrms & lotsize & sqrmtr & fed\\\\\n",
       "\t\\hline\n",
       "\t& Int64 & Int64 & Int64 & Int64 & Int64\\\\\n",
       "\t\\hline\n",
       "\t1 & 320000 & 6 & 766 & 280 & 1 \\\\\n",
       "\t2 & 300000 & 5 & 881 & 303 & 1 \\\\\n",
       "\t3 & 405000 & 3 & 1530 & 388 & 1 \\\\\n",
       "\t4 & 212000 & 3 & 808 & 218 & 0 \\\\\n",
       "\t5 & 265000 & 3 & 815 & 266 & 1 \\\\\n",
       "\t6 & 227400 & 4 & 450 & 202 & 1 \\\\\n",
       "\t7 & 240000 & 4 & 740 & 230 & 0 \\\\\n",
       "\t8 & 285000 & 3 & 890 & 204 & 1 \\\\\n",
       "\t9 & 268000 & 3 & 705 & 158 & 1 \\\\\n",
       "\t10 & 310000 & 4 & 1075 & 211 & 1 \\\\\n",
       "\t11 & 266000 & 3 & 687 & 235 & 1 \\\\\n",
       "\t12 & 370000 & 3 & 1238 & 238 & 1 \\\\\n",
       "\t13 & 191000 & 3 & 650 & 158 & 0 \\\\\n",
       "\t14 & 195000 & 3 & 575 & 166 & 1 \\\\\n",
       "\t15 & 373000 & 4 & 762 & 289 & 1 \\\\\n",
       "\t16 & 466275 & 5 & 1071 & 316 & 1 \\\\\n",
       "\t17 & 332500 & 3 & 1125 & 237 & 1 \\\\\n",
       "\t18 & 315000 & 3 & 776 & 199 & 1 \\\\\n",
       "\t19 & 206000 & 3 & 750 & 203 & 0 \\\\\n",
       "\t20 & 240000 & 3 & 362 & 217 & 0 \\\\\n",
       "\t21 & 285000 & 4 & 750 & 268 & 1 \\\\\n",
       "\t22 & 300000 & 5 & 881 & 303 & 1 \\\\\n",
       "\t23 & 405000 & 3 & 1530 & 388 & 1 \\\\\n",
       "\t24 & 212000 & 3 & 808 & 218 & 0 \\\\\n",
       "\t25 & 265000 & 3 & 815 & 266 & 1 \\\\\n",
       "\t26 & 227400 & 4 & 450 & 202 & 1 \\\\\n",
       "\t27 & 240000 & 4 & 740 & 230 & 0 \\\\\n",
       "\t28 & 285000 & 3 & 890 & 204 & 1 \\\\\n",
       "\t29 & 268000 & 3 & 705 & 158 & 1 \\\\\n",
       "\t30 & 310000 & 4 & 1075 & 211 & 1 \\\\\n",
       "\t$\\dots$ & $\\dots$ & $\\dots$ & $\\dots$ & $\\dots$ & $\\dots$ \\\\\n",
       "\\end{tabular}\n"
      ],
      "text/plain": [
       "\u001b[1m118×5 DataFrame\u001b[0m\n",
       "\u001b[1m Row \u001b[0m│\u001b[1m Price  \u001b[0m\u001b[1m bdrms \u001b[0m\u001b[1m lotsize \u001b[0m\u001b[1m sqrmtr \u001b[0m\u001b[1m fed   \u001b[0m\n",
       "\u001b[1m     \u001b[0m│\u001b[90m Int64  \u001b[0m\u001b[90m Int64 \u001b[0m\u001b[90m Int64   \u001b[0m\u001b[90m Int64  \u001b[0m\u001b[90m Int64 \u001b[0m\n",
       "─────┼───────────────────────────────────────\n",
       "   1 │ 320000      6      766     280      1\n",
       "   2 │ 300000      5      881     303      1\n",
       "   3 │ 405000      3     1530     388      1\n",
       "   4 │ 212000      3      808     218      0\n",
       "   5 │ 265000      3      815     266      1\n",
       "   6 │ 227400      4      450     202      1\n",
       "   7 │ 240000      4      740     230      0\n",
       "   8 │ 285000      3      890     204      1\n",
       "   9 │ 268000      3      705     158      1\n",
       "  10 │ 310000      4     1075     211      1\n",
       "  11 │ 266000      3      687     235      1\n",
       "  ⋮  │   ⋮       ⋮       ⋮       ⋮       ⋮\n",
       " 109 │ 300000      5      881     303      1\n",
       " 110 │ 405000      3     1530     388      1\n",
       " 111 │ 212000      3      808     218      0\n",
       " 112 │ 265000      3      815     266      1\n",
       " 113 │ 227400      4      450     202      1\n",
       " 114 │ 240000      4      740     230      0\n",
       " 115 │ 285000      3      890     204      1\n",
       " 116 │ 268000      3      705     158      1\n",
       " 117 │ 310000      4     1075     211      1\n",
       " 118 │ 266000      3      687     235      1\n",
       "\u001b[36m                              97 rows omitted\u001b[0m"
      ]
     },
     "execution_count": 36,
     "metadata": {},
     "output_type": "execute_result"
    }
   ],
   "source": [
    "rename!(df, :price => :Price)"
   ]
  },
  {
   "cell_type": "code",
   "execution_count": 37,
   "id": "4011a6a1-e62f-400b-bc1e-da281830c049",
   "metadata": {},
   "outputs": [
    {
     "data": {
      "text/html": [
       "<div class=\"data-frame\"><p>118 rows × 2 columns</p><table class=\"data-frame\"><thead><tr><th></th><th>Price</th><th>bdrms</th></tr><tr><th></th><th title=\"Int64\">Int64</th><th title=\"Int64\">Int64</th></tr></thead><tbody><tr><th>1</th><td>320000</td><td>6</td></tr><tr><th>2</th><td>300000</td><td>5</td></tr><tr><th>3</th><td>405000</td><td>3</td></tr><tr><th>4</th><td>212000</td><td>3</td></tr><tr><th>5</th><td>265000</td><td>3</td></tr><tr><th>6</th><td>227400</td><td>4</td></tr><tr><th>7</th><td>240000</td><td>4</td></tr><tr><th>8</th><td>285000</td><td>3</td></tr><tr><th>9</th><td>268000</td><td>3</td></tr><tr><th>10</th><td>310000</td><td>4</td></tr><tr><th>11</th><td>266000</td><td>3</td></tr><tr><th>12</th><td>370000</td><td>3</td></tr><tr><th>13</th><td>191000</td><td>3</td></tr><tr><th>14</th><td>195000</td><td>3</td></tr><tr><th>15</th><td>373000</td><td>4</td></tr><tr><th>16</th><td>466275</td><td>5</td></tr><tr><th>17</th><td>332500</td><td>3</td></tr><tr><th>18</th><td>315000</td><td>3</td></tr><tr><th>19</th><td>206000</td><td>3</td></tr><tr><th>20</th><td>240000</td><td>3</td></tr><tr><th>21</th><td>285000</td><td>4</td></tr><tr><th>22</th><td>300000</td><td>5</td></tr><tr><th>23</th><td>405000</td><td>3</td></tr><tr><th>24</th><td>212000</td><td>3</td></tr><tr><th>25</th><td>265000</td><td>3</td></tr><tr><th>26</th><td>227400</td><td>4</td></tr><tr><th>27</th><td>240000</td><td>4</td></tr><tr><th>28</th><td>285000</td><td>3</td></tr><tr><th>29</th><td>268000</td><td>3</td></tr><tr><th>30</th><td>310000</td><td>4</td></tr><tr><th>&vellip;</th><td>&vellip;</td><td>&vellip;</td></tr></tbody></table></div>"
      ],
      "text/latex": [
       "\\begin{tabular}{r|cc}\n",
       "\t& Price & bdrms\\\\\n",
       "\t\\hline\n",
       "\t& Int64 & Int64\\\\\n",
       "\t\\hline\n",
       "\t1 & 320000 & 6 \\\\\n",
       "\t2 & 300000 & 5 \\\\\n",
       "\t3 & 405000 & 3 \\\\\n",
       "\t4 & 212000 & 3 \\\\\n",
       "\t5 & 265000 & 3 \\\\\n",
       "\t6 & 227400 & 4 \\\\\n",
       "\t7 & 240000 & 4 \\\\\n",
       "\t8 & 285000 & 3 \\\\\n",
       "\t9 & 268000 & 3 \\\\\n",
       "\t10 & 310000 & 4 \\\\\n",
       "\t11 & 266000 & 3 \\\\\n",
       "\t12 & 370000 & 3 \\\\\n",
       "\t13 & 191000 & 3 \\\\\n",
       "\t14 & 195000 & 3 \\\\\n",
       "\t15 & 373000 & 4 \\\\\n",
       "\t16 & 466275 & 5 \\\\\n",
       "\t17 & 332500 & 3 \\\\\n",
       "\t18 & 315000 & 3 \\\\\n",
       "\t19 & 206000 & 3 \\\\\n",
       "\t20 & 240000 & 3 \\\\\n",
       "\t21 & 285000 & 4 \\\\\n",
       "\t22 & 300000 & 5 \\\\\n",
       "\t23 & 405000 & 3 \\\\\n",
       "\t24 & 212000 & 3 \\\\\n",
       "\t25 & 265000 & 3 \\\\\n",
       "\t26 & 227400 & 4 \\\\\n",
       "\t27 & 240000 & 4 \\\\\n",
       "\t28 & 285000 & 3 \\\\\n",
       "\t29 & 268000 & 3 \\\\\n",
       "\t30 & 310000 & 4 \\\\\n",
       "\t$\\dots$ & $\\dots$ & $\\dots$ \\\\\n",
       "\\end{tabular}\n"
      ],
      "text/plain": [
       "\u001b[1m118×2 DataFrame\u001b[0m\n",
       "\u001b[1m Row \u001b[0m│\u001b[1m Price  \u001b[0m\u001b[1m bdrms \u001b[0m\n",
       "\u001b[1m     \u001b[0m│\u001b[90m Int64  \u001b[0m\u001b[90m Int64 \u001b[0m\n",
       "─────┼───────────────\n",
       "   1 │ 320000      6\n",
       "   2 │ 300000      5\n",
       "   3 │ 405000      3\n",
       "   4 │ 212000      3\n",
       "   5 │ 265000      3\n",
       "   6 │ 227400      4\n",
       "   7 │ 240000      4\n",
       "   8 │ 285000      3\n",
       "   9 │ 268000      3\n",
       "  10 │ 310000      4\n",
       "  11 │ 266000      3\n",
       "  ⋮  │   ⋮       ⋮\n",
       " 109 │ 300000      5\n",
       " 110 │ 405000      3\n",
       " 111 │ 212000      3\n",
       " 112 │ 265000      3\n",
       " 113 │ 227400      4\n",
       " 114 │ 240000      4\n",
       " 115 │ 285000      3\n",
       " 116 │ 268000      3\n",
       " 117 │ 310000      4\n",
       " 118 │ 266000      3\n",
       "\u001b[36m      97 rows omitted\u001b[0m"
      ]
     },
     "execution_count": 37,
     "metadata": {},
     "output_type": "execute_result"
    }
   ],
   "source": [
    "select!(df, :Price, :bdrms)"
   ]
  },
  {
   "cell_type": "code",
   "execution_count": 38,
   "id": "6cfb98fe-db33-45cc-a4da-8ee4e8d154ca",
   "metadata": {},
   "outputs": [
    {
     "data": {
      "text/html": [
       "<div class=\"data-frame\"><p>118 rows × 2 columns</p><table class=\"data-frame\"><thead><tr><th></th><th>Price</th><th>bdrms</th></tr><tr><th></th><th title=\"Int64\">Int64</th><th title=\"Int64\">Int64</th></tr></thead><tbody><tr><th>1</th><td>111000</td><td>4</td></tr><tr><th>2</th><td>150000</td><td>4</td></tr><tr><th>3</th><td>180000</td><td>3</td></tr><tr><th>4</th><td>190000</td><td>4</td></tr><tr><th>5</th><td>191000</td><td>3</td></tr><tr><th>6</th><td>191000</td><td>3</td></tr><tr><th>7</th><td>195000</td><td>3</td></tr><tr><th>8</th><td>195000</td><td>3</td></tr><tr><th>9</th><td>202500</td><td>3</td></tr><tr><th>10</th><td>206000</td><td>3</td></tr><tr><th>11</th><td>206000</td><td>3</td></tr><tr><th>12</th><td>209000</td><td>4</td></tr><tr><th>13</th><td>209001</td><td>4</td></tr><tr><th>14</th><td>210000</td><td>3</td></tr><tr><th>15</th><td>212000</td><td>3</td></tr><tr><th>16</th><td>212000</td><td>3</td></tr><tr><th>17</th><td>212000</td><td>3</td></tr><tr><th>18</th><td>215000</td><td>3</td></tr><tr><th>19</th><td>219000</td><td>2</td></tr><tr><th>20</th><td>220000</td><td>3</td></tr><tr><th>21</th><td>225000</td><td>3</td></tr><tr><th>22</th><td>225000</td><td>2</td></tr><tr><th>23</th><td>225000</td><td>3</td></tr><tr><th>24</th><td>225000</td><td>3</td></tr><tr><th>25</th><td>227400</td><td>4</td></tr><tr><th>26</th><td>227400</td><td>4</td></tr><tr><th>27</th><td>227400</td><td>4</td></tr><tr><th>28</th><td>230000</td><td>3</td></tr><tr><th>29</th><td>230000</td><td>4</td></tr><tr><th>30</th><td>230000</td><td>3</td></tr><tr><th>&vellip;</th><td>&vellip;</td><td>&vellip;</td></tr></tbody></table></div>"
      ],
      "text/latex": [
       "\\begin{tabular}{r|cc}\n",
       "\t& Price & bdrms\\\\\n",
       "\t\\hline\n",
       "\t& Int64 & Int64\\\\\n",
       "\t\\hline\n",
       "\t1 & 111000 & 4 \\\\\n",
       "\t2 & 150000 & 4 \\\\\n",
       "\t3 & 180000 & 3 \\\\\n",
       "\t4 & 190000 & 4 \\\\\n",
       "\t5 & 191000 & 3 \\\\\n",
       "\t6 & 191000 & 3 \\\\\n",
       "\t7 & 195000 & 3 \\\\\n",
       "\t8 & 195000 & 3 \\\\\n",
       "\t9 & 202500 & 3 \\\\\n",
       "\t10 & 206000 & 3 \\\\\n",
       "\t11 & 206000 & 3 \\\\\n",
       "\t12 & 209000 & 4 \\\\\n",
       "\t13 & 209001 & 4 \\\\\n",
       "\t14 & 210000 & 3 \\\\\n",
       "\t15 & 212000 & 3 \\\\\n",
       "\t16 & 212000 & 3 \\\\\n",
       "\t17 & 212000 & 3 \\\\\n",
       "\t18 & 215000 & 3 \\\\\n",
       "\t19 & 219000 & 2 \\\\\n",
       "\t20 & 220000 & 3 \\\\\n",
       "\t21 & 225000 & 3 \\\\\n",
       "\t22 & 225000 & 2 \\\\\n",
       "\t23 & 225000 & 3 \\\\\n",
       "\t24 & 225000 & 3 \\\\\n",
       "\t25 & 227400 & 4 \\\\\n",
       "\t26 & 227400 & 4 \\\\\n",
       "\t27 & 227400 & 4 \\\\\n",
       "\t28 & 230000 & 3 \\\\\n",
       "\t29 & 230000 & 4 \\\\\n",
       "\t30 & 230000 & 3 \\\\\n",
       "\t$\\dots$ & $\\dots$ & $\\dots$ \\\\\n",
       "\\end{tabular}\n"
      ],
      "text/plain": [
       "\u001b[1m118×2 DataFrame\u001b[0m\n",
       "\u001b[1m Row \u001b[0m│\u001b[1m Price  \u001b[0m\u001b[1m bdrms \u001b[0m\n",
       "\u001b[1m     \u001b[0m│\u001b[90m Int64  \u001b[0m\u001b[90m Int64 \u001b[0m\n",
       "─────┼───────────────\n",
       "   1 │ 111000      4\n",
       "   2 │ 150000      4\n",
       "   3 │ 180000      3\n",
       "   4 │ 190000      4\n",
       "   5 │ 191000      3\n",
       "   6 │ 191000      3\n",
       "   7 │ 195000      3\n",
       "   8 │ 195000      3\n",
       "   9 │ 202500      3\n",
       "  10 │ 206000      3\n",
       "  11 │ 206000      3\n",
       "  ⋮  │   ⋮       ⋮\n",
       " 109 │ 417500      4\n",
       " 110 │ 425000      3\n",
       " 111 │ 466275      5\n",
       " 112 │ 466275      5\n",
       " 113 │ 471250      5\n",
       " 114 │ 477500      7\n",
       " 115 │ 495000      4\n",
       " 116 │ 575000      5\n",
       " 117 │ 713500      5\n",
       " 118 │ 815000      5\n",
       "\u001b[36m      97 rows omitted\u001b[0m"
      ]
     },
     "execution_count": 38,
     "metadata": {},
     "output_type": "execute_result"
    }
   ],
   "source": [
    "sort!(df, :Price)"
   ]
  },
  {
   "cell_type": "code",
   "execution_count": 23,
   "id": "c201ebc2-eafc-4436-a373-328872e26e6b",
   "metadata": {},
   "outputs": [
    {
     "data": {
      "text/html": [
       "<div class=\"data-frame\"><p>2 rows × 2 columns</p><table class=\"data-frame\"><thead><tr><th></th><th>ID</th><th>Name</th></tr><tr><th></th><th title=\"Int64\">Int64</th><th title=\"String\">String</th></tr></thead><tbody><tr><th>1</th><td>20</td><td>John Doe</td></tr><tr><th>2</th><td>40</td><td>Jane Doe</td></tr></tbody></table></div>"
      ],
      "text/latex": [
       "\\begin{tabular}{r|cc}\n",
       "\t& ID & Name\\\\\n",
       "\t\\hline\n",
       "\t& Int64 & String\\\\\n",
       "\t\\hline\n",
       "\t1 & 20 & John Doe \\\\\n",
       "\t2 & 40 & Jane Doe \\\\\n",
       "\\end{tabular}\n"
      ],
      "text/plain": [
       "\u001b[1m2×2 DataFrame\u001b[0m\n",
       "\u001b[1m Row \u001b[0m│\u001b[1m ID    \u001b[0m\u001b[1m Name     \u001b[0m\n",
       "\u001b[1m     \u001b[0m│\u001b[90m Int64 \u001b[0m\u001b[90m String   \u001b[0m\n",
       "─────┼─────────────────\n",
       "   1 │    20  John Doe\n",
       "   2 │    40  Jane Doe"
      ]
     },
     "execution_count": 23,
     "metadata": {},
     "output_type": "execute_result"
    }
   ],
   "source": [
    "people = DataFrame(ID = [20, 40], Name = [\"John Doe\", \"Jane Doe\"])"
   ]
  },
  {
   "cell_type": "code",
   "execution_count": 28,
   "id": "16e2ab03-59d9-481f-b5aa-09b48f815c93",
   "metadata": {},
   "outputs": [
    {
     "data": {
      "text/html": [
       "<div class=\"data-frame\"><p>2 rows × 2 columns</p><table class=\"data-frame\"><thead><tr><th></th><th>ID</th><th>Job</th></tr><tr><th></th><th title=\"Int64\">Int64</th><th title=\"String\">String</th></tr></thead><tbody><tr><th>1</th><td>20</td><td>Lawyer</td></tr><tr><th>2</th><td>60</td><td>Astronaut</td></tr></tbody></table></div>"
      ],
      "text/latex": [
       "\\begin{tabular}{r|cc}\n",
       "\t& ID & Job\\\\\n",
       "\t\\hline\n",
       "\t& Int64 & String\\\\\n",
       "\t\\hline\n",
       "\t1 & 20 & Lawyer \\\\\n",
       "\t2 & 60 & Astronaut \\\\\n",
       "\\end{tabular}\n"
      ],
      "text/plain": [
       "\u001b[1m2×2 DataFrame\u001b[0m\n",
       "\u001b[1m Row \u001b[0m│\u001b[1m ID    \u001b[0m\u001b[1m Job       \u001b[0m\n",
       "\u001b[1m     \u001b[0m│\u001b[90m Int64 \u001b[0m\u001b[90m String    \u001b[0m\n",
       "─────┼──────────────────\n",
       "   1 │    20  Lawyer\n",
       "   2 │    60  Astronaut"
      ]
     },
     "execution_count": 28,
     "metadata": {},
     "output_type": "execute_result"
    }
   ],
   "source": [
    "jobs = DataFrame(ID = [20, 60], Job = [\"Lawyer\", \"Astronaut\"])"
   ]
  },
  {
   "cell_type": "markdown",
   "id": "df9029ee-cbf4-417a-b552-482c8424b8db",
   "metadata": {},
   "source": [
    "# innerjoin: the output contains rows for values of the key that exist in all passed data frames."
   ]
  },
  {
   "cell_type": "code",
   "execution_count": 29,
   "id": "81e9a092-071a-4742-a807-cb8fa29724df",
   "metadata": {},
   "outputs": [
    {
     "data": {
      "text/html": [
       "<div class=\"data-frame\"><p>1 rows × 3 columns</p><table class=\"data-frame\"><thead><tr><th></th><th>ID</th><th>Name</th><th>Job</th></tr><tr><th></th><th title=\"Int64\">Int64</th><th title=\"String\">String</th><th title=\"String\">String</th></tr></thead><tbody><tr><th>1</th><td>20</td><td>John Doe</td><td>Lawyer</td></tr></tbody></table></div>"
      ],
      "text/latex": [
       "\\begin{tabular}{r|ccc}\n",
       "\t& ID & Name & Job\\\\\n",
       "\t\\hline\n",
       "\t& Int64 & String & String\\\\\n",
       "\t\\hline\n",
       "\t1 & 20 & John Doe & Lawyer \\\\\n",
       "\\end{tabular}\n"
      ],
      "text/plain": [
       "\u001b[1m1×3 DataFrame\u001b[0m\n",
       "\u001b[1m Row \u001b[0m│\u001b[1m ID    \u001b[0m\u001b[1m Name     \u001b[0m\u001b[1m Job    \u001b[0m\n",
       "\u001b[1m     \u001b[0m│\u001b[90m Int64 \u001b[0m\u001b[90m String   \u001b[0m\u001b[90m String \u001b[0m\n",
       "─────┼─────────────────────────\n",
       "   1 │    20  John Doe  Lawyer"
      ]
     },
     "execution_count": 29,
     "metadata": {},
     "output_type": "execute_result"
    }
   ],
   "source": [
    "innerjoin(people, jobs, on = :ID)"
   ]
  },
  {
   "cell_type": "markdown",
   "id": "1f5863f3-6e49-4efb-966d-32d129af717c",
   "metadata": {},
   "source": [
    "# leftjoin: the output contains rows for values of the key that exist in the first (left) argument, whether or not that value exists in the second (right) argument."
   ]
  },
  {
   "cell_type": "code",
   "execution_count": 30,
   "id": "645f27c3-0a42-40ff-81e6-245ff8527ded",
   "metadata": {},
   "outputs": [
    {
     "data": {
      "text/html": [
       "<div class=\"data-frame\"><p>2 rows × 3 columns</p><table class=\"data-frame\"><thead><tr><th></th><th>ID</th><th>Name</th><th>Job</th></tr><tr><th></th><th title=\"Int64\">Int64</th><th title=\"String\">String</th><th title=\"Union{Missing, String}\">String?</th></tr></thead><tbody><tr><th>1</th><td>20</td><td>John Doe</td><td>Lawyer</td></tr><tr><th>2</th><td>40</td><td>Jane Doe</td><td><em>missing</em></td></tr></tbody></table></div>"
      ],
      "text/latex": [
       "\\begin{tabular}{r|ccc}\n",
       "\t& ID & Name & Job\\\\\n",
       "\t\\hline\n",
       "\t& Int64 & String & String?\\\\\n",
       "\t\\hline\n",
       "\t1 & 20 & John Doe & Lawyer \\\\\n",
       "\t2 & 40 & Jane Doe & \\emph{missing} \\\\\n",
       "\\end{tabular}\n"
      ],
      "text/plain": [
       "\u001b[1m2×3 DataFrame\u001b[0m\n",
       "\u001b[1m Row \u001b[0m│\u001b[1m ID    \u001b[0m\u001b[1m Name     \u001b[0m\u001b[1m Job     \u001b[0m\n",
       "\u001b[1m     \u001b[0m│\u001b[90m Int64 \u001b[0m\u001b[90m String   \u001b[0m\u001b[90m String? \u001b[0m\n",
       "─────┼──────────────────────────\n",
       "   1 │    20  John Doe  Lawyer\n",
       "   2 │    40  Jane Doe \u001b[90m missing \u001b[0m"
      ]
     },
     "execution_count": 30,
     "metadata": {},
     "output_type": "execute_result"
    }
   ],
   "source": [
    "leftjoin(people, jobs, on = :ID)"
   ]
  },
  {
   "cell_type": "markdown",
   "id": "627ed02e-169a-4b51-85e7-f46d0e1f9619",
   "metadata": {},
   "source": [
    "# rightjoin: the output contains rows for values of the key that exist in the second (right) argument, whether or not that value exists in the first (left) argument."
   ]
  },
  {
   "cell_type": "code",
   "execution_count": 31,
   "id": "63d2e6b9-5c04-45da-9649-046c5a48d0e7",
   "metadata": {},
   "outputs": [
    {
     "data": {
      "text/html": [
       "<div class=\"data-frame\"><p>2 rows × 3 columns</p><table class=\"data-frame\"><thead><tr><th></th><th>ID</th><th>Name</th><th>Job</th></tr><tr><th></th><th title=\"Int64\">Int64</th><th title=\"Union{Missing, String}\">String?</th><th title=\"String\">String</th></tr></thead><tbody><tr><th>1</th><td>20</td><td>John Doe</td><td>Lawyer</td></tr><tr><th>2</th><td>60</td><td><em>missing</em></td><td>Astronaut</td></tr></tbody></table></div>"
      ],
      "text/latex": [
       "\\begin{tabular}{r|ccc}\n",
       "\t& ID & Name & Job\\\\\n",
       "\t\\hline\n",
       "\t& Int64 & String? & String\\\\\n",
       "\t\\hline\n",
       "\t1 & 20 & John Doe & Lawyer \\\\\n",
       "\t2 & 60 & \\emph{missing} & Astronaut \\\\\n",
       "\\end{tabular}\n"
      ],
      "text/plain": [
       "\u001b[1m2×3 DataFrame\u001b[0m\n",
       "\u001b[1m Row \u001b[0m│\u001b[1m ID    \u001b[0m\u001b[1m Name     \u001b[0m\u001b[1m Job       \u001b[0m\n",
       "\u001b[1m     \u001b[0m│\u001b[90m Int64 \u001b[0m\u001b[90m String?  \u001b[0m\u001b[90m String    \u001b[0m\n",
       "─────┼────────────────────────────\n",
       "   1 │    20  John Doe  Lawyer\n",
       "   2 │    60 \u001b[90m missing  \u001b[0m Astronaut"
      ]
     },
     "execution_count": 31,
     "metadata": {},
     "output_type": "execute_result"
    }
   ],
   "source": [
    "rightjoin(people, jobs, on = :ID)"
   ]
  },
  {
   "cell_type": "markdown",
   "id": "f2ce21a1-2b9f-4775-a321-875a478fd21f",
   "metadata": {},
   "source": [
    "# outerjoin: the output contains rows for values of the key that exist in any of the passed data frames."
   ]
  },
  {
   "cell_type": "code",
   "execution_count": 32,
   "id": "61ab7a00-4e81-4ed3-a1ab-cbf9ba385525",
   "metadata": {},
   "outputs": [
    {
     "data": {
      "text/html": [
       "<div class=\"data-frame\"><p>3 rows × 3 columns</p><table class=\"data-frame\"><thead><tr><th></th><th>ID</th><th>Name</th><th>Job</th></tr><tr><th></th><th title=\"Int64\">Int64</th><th title=\"Union{Missing, String}\">String?</th><th title=\"Union{Missing, String}\">String?</th></tr></thead><tbody><tr><th>1</th><td>20</td><td>John Doe</td><td>Lawyer</td></tr><tr><th>2</th><td>40</td><td>Jane Doe</td><td><em>missing</em></td></tr><tr><th>3</th><td>60</td><td><em>missing</em></td><td>Astronaut</td></tr></tbody></table></div>"
      ],
      "text/latex": [
       "\\begin{tabular}{r|ccc}\n",
       "\t& ID & Name & Job\\\\\n",
       "\t\\hline\n",
       "\t& Int64 & String? & String?\\\\\n",
       "\t\\hline\n",
       "\t1 & 20 & John Doe & Lawyer \\\\\n",
       "\t2 & 40 & Jane Doe & \\emph{missing} \\\\\n",
       "\t3 & 60 & \\emph{missing} & Astronaut \\\\\n",
       "\\end{tabular}\n"
      ],
      "text/plain": [
       "\u001b[1m3×3 DataFrame\u001b[0m\n",
       "\u001b[1m Row \u001b[0m│\u001b[1m ID    \u001b[0m\u001b[1m Name     \u001b[0m\u001b[1m Job       \u001b[0m\n",
       "\u001b[1m     \u001b[0m│\u001b[90m Int64 \u001b[0m\u001b[90m String?  \u001b[0m\u001b[90m String?   \u001b[0m\n",
       "─────┼────────────────────────────\n",
       "   1 │    20  John Doe  Lawyer\n",
       "   2 │    40  Jane Doe \u001b[90m missing   \u001b[0m\n",
       "   3 │    60 \u001b[90m missing  \u001b[0m Astronaut"
      ]
     },
     "execution_count": 32,
     "metadata": {},
     "output_type": "execute_result"
    }
   ],
   "source": [
    "outerjoin(people, jobs, on = :ID)"
   ]
  },
  {
   "cell_type": "code",
   "execution_count": null,
   "id": "d0d4df34-af88-4977-b755-90bef3955fe3",
   "metadata": {},
   "outputs": [],
   "source": []
  }
 ],
 "metadata": {
  "kernelspec": {
   "display_name": "Julia 1.7.1",
   "language": "julia",
   "name": "julia-1.7"
  },
  "language_info": {
   "file_extension": ".jl",
   "mimetype": "application/julia",
   "name": "julia",
   "version": "1.7.1"
  }
 },
 "nbformat": 4,
 "nbformat_minor": 5
}
